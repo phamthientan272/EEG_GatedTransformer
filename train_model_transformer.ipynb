{
 "cells": [
  {
   "cell_type": "code",
   "execution_count": 2,
   "id": "25b4de76",
   "metadata": {},
   "outputs": [],
   "source": [
    "import tensorflow as tf\n",
    "from module.gatedTransformer import GatedTransformer"
   ]
  },
  {
   "cell_type": "markdown",
   "id": "f87c0cd4",
   "metadata": {},
   "source": [
    "### Import Dataset"
   ]
  },
  {
   "cell_type": "code",
   "execution_count": 3,
   "id": "2adcc4e2",
   "metadata": {},
   "outputs": [
    {
     "name": "stdout",
     "output_type": "stream",
     "text": [
      "(46601, 5)\n",
      "[1. 0. 0.]\n"
     ]
    }
   ],
   "source": [
    "import pickle\n",
    "\n",
    "file_name = \"1_20131027.pkl\"\n",
    "open_file = open(file_name, \"rb\")\n",
    "seed_data = pickle.load(open_file)\n",
    "open_file.close()\n",
    "\n",
    "data, label = seed_data[1]\n",
    "print(data.shape)\n",
    "print(label)"
   ]
  },
  {
   "cell_type": "markdown",
   "id": "570e6a30",
   "metadata": {},
   "source": [
    "### Prepare dataset"
   ]
  },
  {
   "cell_type": "code",
   "execution_count": 4,
   "id": "15c4b30d",
   "metadata": {},
   "outputs": [],
   "source": [
    "Hz = 200\n",
    "duration = 1\n",
    "size = Hz*duration\n",
    "batch_size = 32"
   ]
  },
  {
   "cell_type": "code",
   "execution_count": 5,
   "id": "f9b73a15",
   "metadata": {},
   "outputs": [],
   "source": [
    "def create_dataset_window(series, label, size, batch_size=32, shift=1):\n",
    "    ds = tf.data.Dataset.from_tensor_slices(series)\n",
    "    ds = ds.window(size= size, shift = shift, drop_remainder = True)\n",
    "    ds = ds.flat_map(lambda w: w.batch(size))\n",
    "    ds = ds.map(lambda w: (w, label))\n",
    "    return ds.batch(batch_size)"
   ]
  },
  {
   "cell_type": "code",
   "execution_count": 6,
   "id": "448c2dc5",
   "metadata": {},
   "outputs": [
    {
     "data": {
      "text/plain": [
       "726"
      ]
     },
     "execution_count": 6,
     "metadata": {},
     "output_type": "execute_result"
    }
   ],
   "source": [
    "ds = create_dataset_window(data, label, size, batch_size, int(size/100))\n",
    "len(list(ds))\n"
   ]
  },
  {
   "cell_type": "code",
   "execution_count": null,
   "id": "718efca5",
   "metadata": {},
   "outputs": [],
   "source": [
    "3r2r"
   ]
  }
 ],
 "metadata": {
  "kernelspec": {
   "display_name": "Python 3 (ipykernel)",
   "language": "python",
   "name": "python3"
  },
  "language_info": {
   "codemirror_mode": {
    "name": "ipython",
    "version": 3
   },
   "file_extension": ".py",
   "mimetype": "text/x-python",
   "name": "python",
   "nbconvert_exporter": "python",
   "pygments_lexer": "ipython3",
   "version": "3.9.7"
  }
 },
 "nbformat": 4,
 "nbformat_minor": 5
}
